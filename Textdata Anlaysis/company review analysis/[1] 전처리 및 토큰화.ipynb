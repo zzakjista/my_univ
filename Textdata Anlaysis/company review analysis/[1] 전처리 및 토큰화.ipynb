{
 "cells": [
  {
   "cell_type": "code",
   "execution_count": 2,
   "metadata": {},
   "outputs": [],
   "source": [
    "import pickle\n",
    "import numpy as np\n",
    "import pandas as pd\n",
    "import re\n",
    "from konlpy.tag import Okt\n",
    "import copy"
   ]
  },
  {
   "cell_type": "code",
   "execution_count": 3,
   "metadata": {},
   "outputs": [],
   "source": [
    "# 파일과 필요한 데이터 지정 #\n",
    "path = 'jobplanet_crawling.csv'\n",
    "selected_columns = ['title','positive','negative','advice','star_score']"
   ]
  },
  {
   "cell_type": "code",
   "execution_count": 6,
   "metadata": {},
   "outputs": [],
   "source": [
    "# 수집한 데이터 불러오기 #\n",
    "def load_dataset(path):\n",
    "    all_df = pd.read_csv(path, encoding='utf-8')\n",
    "    # with open(path, 'rb') as f:\n",
    "    #     all_df = pickle.load(f)\n",
    "    return all_df\n",
    "# 데이터프레임에서 원하는 컬럼만 선택 #\n",
    "def select_columns(all_df, columns):\n",
    "    return all_df[columns]\n",
    "# 데이터프레임의 컬럼 타입 변경 #\n",
    "def define_dtype(df):\n",
    "    df['star_score'] = df['star_score'].astype(int) # type 변경\n",
    "    df['star_score'] = np.where(df['star_score'] == 10, 100, df['star_score']) \n",
    "    #크롤링 시 100점이 10점으로 잘려 수집되었기 때문에 다시 100점으로 변경\n",
    "# 긍정, 부정 리뷰를 하나의 데이터프레임으로 만들기 #\n",
    "def make_reviews(df):\n",
    "    positive = df['positive'].tolist()\n",
    "    negative = df['negative'].tolist()\n",
    "    pos_label = np.ones(len(df['positive'].tolist()), dtype=int) \n",
    "    neg_label = np.zeros(len(df['negative'].tolist()), dtype=int )\n",
    "    text = positive + negative\n",
    "    label = np.concatenate([pos_label, neg_label])\n",
    "    reviews = pd.DataFrame({'text':text, 'label':label})\n",
    "    return reviews\n",
    "# dataloader 만들기 #\n",
    "def dataloader(pat, selected_columns):\n",
    "    all_df = load_dataset(path)\n",
    "    df = select_columns(all_df, selected_columns)\n",
    "    define_dtype(df)\n",
    "    reviews = make_reviews(df)\n",
    "    return reviews"
   ]
  },
  {
   "cell_type": "code",
   "execution_count": 7,
   "metadata": {},
   "outputs": [
    {
     "name": "stderr",
     "output_type": "stream",
     "text": [
      "C:\\Users\\user\\AppData\\Local\\Temp/ipykernel_20636/3567241950.py:12: SettingWithCopyWarning: \n",
      "A value is trying to be set on a copy of a slice from a DataFrame.\n",
      "Try using .loc[row_indexer,col_indexer] = value instead\n",
      "\n",
      "See the caveats in the documentation: https://pandas.pydata.org/pandas-docs/stable/user_guide/indexing.html#returning-a-view-versus-a-copy\n",
      "  df['star_score'] = df['star_score'].astype(int) # type 변경\n",
      "C:\\Users\\user\\AppData\\Local\\Temp/ipykernel_20636/3567241950.py:13: SettingWithCopyWarning: \n",
      "A value is trying to be set on a copy of a slice from a DataFrame.\n",
      "Try using .loc[row_indexer,col_indexer] = value instead\n",
      "\n",
      "See the caveats in the documentation: https://pandas.pydata.org/pandas-docs/stable/user_guide/indexing.html#returning-a-view-versus-a-copy\n",
      "  df['star_score'] = np.where(df['star_score'] == 10, 100, df['star_score'])\n"
     ]
    },
    {
     "data": {
      "text/html": [
       "<div>\n",
       "<style scoped>\n",
       "    .dataframe tbody tr th:only-of-type {\n",
       "        vertical-align: middle;\n",
       "    }\n",
       "\n",
       "    .dataframe tbody tr th {\n",
       "        vertical-align: top;\n",
       "    }\n",
       "\n",
       "    .dataframe thead th {\n",
       "        text-align: right;\n",
       "    }\n",
       "</style>\n",
       "<table border=\"1\" class=\"dataframe\">\n",
       "  <thead>\n",
       "    <tr style=\"text-align: right;\">\n",
       "      <th></th>\n",
       "      <th>text</th>\n",
       "      <th>label</th>\n",
       "    </tr>\n",
       "  </thead>\n",
       "  <tbody>\n",
       "    <tr>\n",
       "      <th>0</th>\n",
       "      <td>테이크아웃, 셔틀, 인지도, 보너스(많이나올때기준), 적당한 인성의 동료들</td>\n",
       "      <td>1</td>\n",
       "    </tr>\n",
       "    <tr>\n",
       "      <th>1</th>\n",
       "      <td>타기업대비 뚜렷한 장점은 없고 밥맛은 괜찮아요 삼시세끼주는것도</td>\n",
       "      <td>1</td>\n",
       "    </tr>\n",
       "    <tr>\n",
       "      <th>2</th>\n",
       "      <td>돈을 많이 주고 성과금도 나름 괜찮은 편이라 돈보고 일하긴 좋다</td>\n",
       "      <td>1</td>\n",
       "    </tr>\n",
       "    <tr>\n",
       "      <th>3</th>\n",
       "      <td>네임벨류가 좋음\\n복지는 중간정도? 경쟁사 복지를 따라하는척하긴함</td>\n",
       "      <td>1</td>\n",
       "    </tr>\n",
       "    <tr>\n",
       "      <th>4</th>\n",
       "      <td>대외적 인식이 좋음 (특히 노년층기준), ps뽕, 반도체 기준 아무리 먼 온양도 지...</td>\n",
       "      <td>1</td>\n",
       "    </tr>\n",
       "  </tbody>\n",
       "</table>\n",
       "</div>"
      ],
      "text/plain": [
       "                                                text  label\n",
       "0          테이크아웃, 셔틀, 인지도, 보너스(많이나올때기준), 적당한 인성의 동료들      1\n",
       "1                 타기업대비 뚜렷한 장점은 없고 밥맛은 괜찮아요 삼시세끼주는것도      1\n",
       "2                돈을 많이 주고 성과금도 나름 괜찮은 편이라 돈보고 일하긴 좋다      1\n",
       "3               네임벨류가 좋음\\n복지는 중간정도? 경쟁사 복지를 따라하는척하긴함      1\n",
       "4  대외적 인식이 좋음 (특히 노년층기준), ps뽕, 반도체 기준 아무리 먼 온양도 지...      1"
      ]
     },
     "execution_count": 7,
     "metadata": {},
     "output_type": "execute_result"
    }
   ],
   "source": [
    "reviews = dataloader(path, selected_columns)\n",
    "reviews.head()"
   ]
  },
  {
   "cell_type": "code",
   "execution_count": 8,
   "metadata": {},
   "outputs": [],
   "source": [
    "p = re.compile('\\n')\n",
    "# \\n 제거 #\n",
    "reviews['text'] = reviews['text'].apply(lambda x: p.sub('', x))\n",
    "#띄어쓰기를 위한 공백 제거 #\n",
    "reviews['text'] = reviews['text'].apply(lambda x: x.replace(' ', ''))"
   ]
  },
  {
   "cell_type": "code",
   "execution_count": 9,
   "metadata": {},
   "outputs": [
    {
     "data": {
      "text/plain": [
       "0                      테이크아웃,셔틀,인지도,보너스(많이나올때기준),적당한인성의동료들\n",
       "1                             타기업대비뚜렷한장점은없고밥맛은괜찮아요삼시세끼주는것도\n",
       "2                               돈을많이주고성과금도나름괜찮은편이라돈보고일하긴좋다\n",
       "3                            네임벨류가좋음복지는중간정도?경쟁사복지를따라하는척하긴함\n",
       "4        대외적인식이좋음(특히노년층기준),ps뽕,반도체기준아무리먼온양도지하철이닿기는닿음(서울...\n",
       "                               ...                        \n",
       "14995                         툭히콘텐츠계열에서는소통이자유로워야하는데그부분이아쉬움\n",
       "14996                            타대기업에비해처우가부족한면이있고관료적인면이있음\n",
       "14997           일이빡쌔요.워라벨이보장되긴하지만일이많이힘들고고단함열심히하면워라밸보장되니좋아요\n",
       "14998                    상하관계에너무얽메겨있음일하는데있어어는좀번거로울수도있다는느낌.\n",
       "14999                              일많은부서로가면같은월급인데야근많이할수도있음\n",
       "Name: text, Length: 15000, dtype: object"
      ]
     },
     "execution_count": 9,
     "metadata": {},
     "output_type": "execute_result"
    }
   ],
   "source": [
    "reviews['text']"
   ]
  },
  {
   "cell_type": "code",
   "execution_count": 21,
   "metadata": {},
   "outputs": [],
   "source": [
    "from pykospacing import Spacing\n",
    "space = Spacing()\n",
    "# corpus = [space(text) for text in corpus] #20m\n",
    "reviews['text'] = reviews['text'].apply(lambda x: space(x)) #54m"
   ]
  },
  {
   "cell_type": "code",
   "execution_count": 26,
   "metadata": {},
   "outputs": [],
   "source": [
    "corpus = reviews['text']"
   ]
  },
  {
   "cell_type": "code",
   "execution_count": 65,
   "metadata": {},
   "outputs": [],
   "source": [
    "# 맞춤법 교정 #\n",
    "def spell_checker(text):\n",
    "    import requests\n",
    "    import json\n",
    "    # 1. 텍스트 준비 & 개행문자 처리 #\n",
    "    text = text.replace('\\n', '\\r\\n')\n",
    "    # 2. 맞춤법 검사 요청 (requests) #\n",
    "    response = requests.post('http://164.125.7.61/speller/results', data={'text1': text})\n",
    "    # 3. 응답에서 필요한 내용 추출 (html 파싱) #\n",
    "    data = response.text.split('data = [', 1)[-1].rsplit('];', 1)[0] \n",
    "    # 4. 파이썬 딕셔너리 형식으로 변환 #\n",
    "    data = json.loads(data)\n",
    "    # 5. 교정 내용 출력 # \n",
    "    # print('original: ', data['str'])\n",
    "    for i in range(len(data['errInfo'])):\n",
    "        if '|' in data['errInfo'][i]['candWord']:\n",
    "            # '|'로 구분된 후보군 중 첫번째 단어 선택 #\n",
    "            data['errInfo'][i]['candWord'] = data['errInfo'][i]['candWord'].split('|')[0] \n",
    "        data['str'] = data['str'].replace(data['errInfo'][i]['orgStr'],data['errInfo'][i]['candWord'])\n",
    "    return data['str']\n",
    "    "
   ]
  },
  {
   "cell_type": "code",
   "execution_count": 66,
   "metadata": {},
   "outputs": [
    {
     "name": "stderr",
     "output_type": "stream",
     "text": [
      "C:\\Users\\user\\AppData\\Local\\Temp/ipykernel_12384/3763769364.py:3: SettingWithCopyWarning: \n",
      "A value is trying to be set on a copy of a slice from a DataFrame\n",
      "\n",
      "See the caveats in the documentation: https://pandas.pydata.org/pandas-docs/stable/user_guide/indexing.html#returning-a-view-versus-a-copy\n",
      "  corpus[i] = spell_checker(corpus[i])\n"
     ]
    }
   ],
   "source": [
    "# 맞춤법 교정 #\n",
    "for i in range(len(corpus)):\n",
    "    try:\n",
    "        corpus[i] = spell_checker(corpus[i])\n",
    "    except:\n",
    "        continue"
   ]
  },
  {
   "cell_type": "code",
   "execution_count": null,
   "metadata": {},
   "outputs": [],
   "source": [
    "# # Checkpoint #\n",
    "# reviews['text'] = corpus\n",
    "# with open('reviews_spell_check.pickle', 'wb') as f:\n",
    "#     pickle.dump(reviews, f)\n",
    "\n",
    "# with open('reviews_spell_check.pickle', 'rb') as f:\n",
    "#     reviews = pickle.load(f)\n",
    "\n",
    "# csv로 저장 #\n",
    "# reviews.to_csv('reviews_spell_check.csv', index=False, encoding='utf-8-sig')"
   ]
  },
  {
   "attachments": {},
   "cell_type": "markdown",
   "metadata": {},
   "source": [
    "### 중간정리 ###\n",
    "- 15000여개의 기업 리뷰(긍정:7500,부정:7500개)를 수집\n",
    "- 특수문자 제거, 토큰화 작업 전에 띄어쓰기와 맞춤법 교정완료\n",
    "- 특수문자 제거, 정규화, 토큰화\n",
    "- 품사태깅할 때 : 불용어 제거, Lemmatize/stemming, "
   ]
  },
  {
   "cell_type": "code",
   "execution_count": 30,
   "metadata": {},
   "outputs": [],
   "source": [
    "reviews = pd.read_csv('reviews_spell_check.csv', encoding='utf-8-sig')"
   ]
  },
  {
   "cell_type": "code",
   "execution_count": 32,
   "metadata": {},
   "outputs": [],
   "source": [
    "# 특수문자 제거 #\n",
    "def remove_special(text):\n",
    "    text = re.sub('[^가-힣a-zA-Z0-9 ]', '', text)\n",
    "    return text"
   ]
  },
  {
   "cell_type": "code",
   "execution_count": 33,
   "metadata": {},
   "outputs": [
    {
     "data": {
      "text/html": [
       "<div>\n",
       "<style scoped>\n",
       "    .dataframe tbody tr th:only-of-type {\n",
       "        vertical-align: middle;\n",
       "    }\n",
       "\n",
       "    .dataframe tbody tr th {\n",
       "        vertical-align: top;\n",
       "    }\n",
       "\n",
       "    .dataframe thead th {\n",
       "        text-align: right;\n",
       "    }\n",
       "</style>\n",
       "<table border=\"1\" class=\"dataframe\">\n",
       "  <thead>\n",
       "    <tr style=\"text-align: right;\">\n",
       "      <th></th>\n",
       "      <th>text</th>\n",
       "      <th>label</th>\n",
       "    </tr>\n",
       "  </thead>\n",
       "  <tbody>\n",
       "    <tr>\n",
       "      <th>0</th>\n",
       "      <td>테이크아웃, 셔틀, 인지도, 보너스(많이 나올 때 기준), 적당한 인성의 동료들</td>\n",
       "      <td>1</td>\n",
       "    </tr>\n",
       "    <tr>\n",
       "      <th>1</th>\n",
       "      <td>타 기업 대비 뚜렷한 장점은 없고 밥맛은 괜찮아요. 삼시세끼 주는 것도</td>\n",
       "      <td>1</td>\n",
       "    </tr>\n",
       "    <tr>\n",
       "      <th>2</th>\n",
       "      <td>돈을 많이 주고 성과금도 나름 괜찮은 편이라 돈 보고 일하긴 좋다</td>\n",
       "      <td>1</td>\n",
       "    </tr>\n",
       "    <tr>\n",
       "      <th>3</th>\n",
       "      <td>네임벨류가 좋음. 복지는 중간 정도? 경쟁사 복지를 따라 하는 척하긴 함</td>\n",
       "      <td>1</td>\n",
       "    </tr>\n",
       "    <tr>\n",
       "      <th>4</th>\n",
       "      <td>대외적인 식이 좋음(특히 노년층 기준), PS 뽕, 반도체 기준 아무리 먼 온양도 ...</td>\n",
       "      <td>1</td>\n",
       "    </tr>\n",
       "    <tr>\n",
       "      <th>...</th>\n",
       "      <td>...</td>\n",
       "      <td>...</td>\n",
       "    </tr>\n",
       "    <tr>\n",
       "      <th>14995</th>\n",
       "      <td>특히 콘텐츠 계열에서는 소통이 자유로워야 하는데 그 부분이 아쉬움</td>\n",
       "      <td>0</td>\n",
       "    </tr>\n",
       "    <tr>\n",
       "      <th>14996</th>\n",
       "      <td>타 대기업에 비해 처우가 부족한 면이 있고 관료적인 면이 있음</td>\n",
       "      <td>0</td>\n",
       "    </tr>\n",
       "    <tr>\n",
       "      <th>14997</th>\n",
       "      <td>일이 거세요. 일과 삶의 균형이 보장되긴 하지만 일이 아주 힘들고 고단함. 열심히 ...</td>\n",
       "      <td>0</td>\n",
       "    </tr>\n",
       "    <tr>\n",
       "      <th>14998</th>\n",
       "      <td>상하 관계에 너무 얽메겨 있음 일하는 데 있어 오는 좀 번거로울 수도 있다는 느낌.</td>\n",
       "      <td>0</td>\n",
       "    </tr>\n",
       "    <tr>\n",
       "      <th>14999</th>\n",
       "      <td>일 많은 부서로 가면 같은 월급인데 야근 많이 할 수도 있음</td>\n",
       "      <td>0</td>\n",
       "    </tr>\n",
       "  </tbody>\n",
       "</table>\n",
       "<p>15000 rows × 2 columns</p>\n",
       "</div>"
      ],
      "text/plain": [
       "                                                    text  label\n",
       "0           테이크아웃, 셔틀, 인지도, 보너스(많이 나올 때 기준), 적당한 인성의 동료들      1\n",
       "1                타 기업 대비 뚜렷한 장점은 없고 밥맛은 괜찮아요. 삼시세끼 주는 것도      1\n",
       "2                   돈을 많이 주고 성과금도 나름 괜찮은 편이라 돈 보고 일하긴 좋다      1\n",
       "3               네임벨류가 좋음. 복지는 중간 정도? 경쟁사 복지를 따라 하는 척하긴 함      1\n",
       "4      대외적인 식이 좋음(특히 노년층 기준), PS 뽕, 반도체 기준 아무리 먼 온양도 ...      1\n",
       "...                                                  ...    ...\n",
       "14995               특히 콘텐츠 계열에서는 소통이 자유로워야 하는데 그 부분이 아쉬움      0\n",
       "14996                 타 대기업에 비해 처우가 부족한 면이 있고 관료적인 면이 있음      0\n",
       "14997  일이 거세요. 일과 삶의 균형이 보장되긴 하지만 일이 아주 힘들고 고단함. 열심히 ...      0\n",
       "14998     상하 관계에 너무 얽메겨 있음 일하는 데 있어 오는 좀 번거로울 수도 있다는 느낌.      0\n",
       "14999                  일 많은 부서로 가면 같은 월급인데 야근 많이 할 수도 있음      0\n",
       "\n",
       "[15000 rows x 2 columns]"
      ]
     },
     "execution_count": 33,
     "metadata": {},
     "output_type": "execute_result"
    }
   ],
   "source": [
    "# 정규화 #\n",
    "okt = Okt()\n",
    "reviews['text'] = reviews['text'].apply(lambda x: okt.normalize(x))\n",
    "reviews"
   ]
  },
  {
   "cell_type": "code",
   "execution_count": 34,
   "metadata": {},
   "outputs": [],
   "source": [
    "# 특수문자 제거 # \n",
    "reviews['text'] = reviews['text'].apply(lambda x: remove_special(x))"
   ]
  },
  {
   "cell_type": "code",
   "execution_count": 35,
   "metadata": {},
   "outputs": [],
   "source": [
    "# 토큰화 및 불용어 제거 #\n",
    "with open('korean_stopwords.txt','r',) as f:\n",
    "    stopwords = f.readlines()\n",
    "    stopwords = list(map(lambda s: s.strip(), stopwords))\n",
    "    \n",
    "# 불용어 추가(Additional Task) #\n",
    "# 서술격조사, 용언 접사(하다) 불용어 추가 # \n",
    "stopwords.extend(['하다','이다','있다', '없다', '많다', '되다', '회사', '하고'])\n",
    "\n",
    "def tokenize(text):\n",
    "    tokens = okt.morphs(text, stem=True)\n",
    "    tokens = [token for token in tokens if token not in stopwords and len(token) > 1]\n",
    "    return tokens\n",
    "\n",
    "reviews['text'] = reviews['text'].apply(lambda x: tokenize(x))"
   ]
  },
  {
   "cell_type": "code",
   "execution_count": 36,
   "metadata": {},
   "outputs": [
    {
     "data": {
      "text/plain": [
       "label\n",
       "0    178\n",
       "1     48\n",
       "Name: count_exist, dtype: int64"
      ]
     },
     "execution_count": 36,
     "metadata": {},
     "output_type": "execute_result"
    }
   ],
   "source": [
    "# 특정 단어가 포함된 행 개수 세기 #\n",
    "def count_exist(text,char):\n",
    "    count = 0\n",
    "    char = char\n",
    "    for i in range(len(text)):\n",
    "        if char in text[i]:\n",
    "            count += 1\n",
    "    return count\n",
    "char = '없다'\n",
    "reviews['count_exist'] = reviews['text'].apply(lambda x: count_exist(x,char))\n",
    "reviews.groupby('label')['count_exist'].sum()"
   ]
  },
  {
   "cell_type": "code",
   "execution_count": 37,
   "metadata": {},
   "outputs": [],
   "source": [
    "# 문자열로 합치기 #\n",
    "reviews['text'] = reviews['text'].apply(lambda x : ' '.join(x))"
   ]
  },
  {
   "cell_type": "code",
   "execution_count": 38,
   "metadata": {},
   "outputs": [],
   "source": [
    "reviews = reviews[['text','label']]"
   ]
  },
  {
   "cell_type": "code",
   "execution_count": 44,
   "metadata": {},
   "outputs": [
    {
     "name": "stderr",
     "output_type": "stream",
     "text": [
      "C:\\Users\\user\\AppData\\Local\\Temp/ipykernel_10620/581257447.py:1: SettingWithCopyWarning: \n",
      "A value is trying to be set on a copy of a slice from a DataFrame.\n",
      "Try using .loc[row_indexer,col_indexer] = value instead\n",
      "\n",
      "See the caveats in the documentation: https://pandas.pydata.org/pandas-docs/stable/user_guide/indexing.html#returning-a-view-versus-a-copy\n",
      "  reviews['text'] = np.where(reviews['text'] == '', '999999999', reviews['text'])\n"
     ]
    }
   ],
   "source": [
    "# 예외처리 #\n",
    "# 공백값이 있다면 특수토큰으로 대체 # \n",
    "reviews['text'] = np.where(reviews['text'] == '', '999999999', reviews['text'])"
   ]
  },
  {
   "cell_type": "code",
   "execution_count": 46,
   "metadata": {},
   "outputs": [],
   "source": [
    "# csv로 저장 #\n",
    "reviews.to_csv('reviews_tokenized.csv', index=False, encoding='utf-8-sig')"
   ]
  }
 ],
 "metadata": {
  "kernelspec": {
   "display_name": "base",
   "language": "python",
   "name": "python3"
  },
  "language_info": {
   "codemirror_mode": {
    "name": "ipython",
    "version": 3
   },
   "file_extension": ".py",
   "mimetype": "text/x-python",
   "name": "python",
   "nbconvert_exporter": "python",
   "pygments_lexer": "ipython3",
   "version": "3.9.7"
  },
  "orig_nbformat": 4
 },
 "nbformat": 4,
 "nbformat_minor": 2
}
