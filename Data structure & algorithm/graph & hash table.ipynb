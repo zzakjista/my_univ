{
 "cells": [
  {
   "attachments": {},
   "cell_type": "markdown",
   "metadata": {},
   "source": [
    "## 그래프"
   ]
  },
  {
   "attachments": {},
   "cell_type": "markdown",
   "metadata": {},
   "source": [
    "- 그래프는 정점(노드)와 간선으로 연결\n",
    "- 방향/무방향 그래프 존재\n",
    "- 차수 : 정점에 인접한 정점의 수 (연결된 노드 수)\n",
    "- 경로 : 시작노드부터 도착노드까지의 정점의 나열\n",
    "    - 단순 경로 : 경로 상 정점들이 모두 다른 경로\n",
    "    - 싸이클 : 시작과 도착점이 같은 경로\n",
    "- 연결성분 : 정점이 서로 연결되있는 부분\n",
    "- 가중치 그래프 : 간선에 가중치가 부여된 그래프(거리 혹은 시간)\n",
    "- 부분그래프 : 정점과 간선의 부분집합(원본 그래프에 모두 있어야함)\n",
    "- 트리는 사이클이 없는 그래프이다\n",
    "- 신장트리 : 모든 정점들을 싸이클없이 연결하는 부분 그래프\n",
    "\n",
    "- 그래프 자료구조\n",
    "    - 인접 행렬 : 두 노드가 연결되어있는가를 0과 1로 표현(가중치 저장 가능)\n",
    "    - 인접 리스트 : 각 인덱스마다 연결된 노드를 표시\n",
    "- Sparse와 Dense\n",
    "    - sparse 그래프는 최대 간선 수인 n(n-1)/2보다 훨씬 작아 리스트로 관리\n",
    "        - 특히 방향 그래프는 간선이 2개씩이라 리스트에선 간선이 중복 출현함\n",
    "    - Dense 그래프는 행렬로 나타내는 것이 더 효율적임"
   ]
  },
  {
   "attachments": {},
   "cell_type": "markdown",
   "metadata": {},
   "source": [
    "- 깊이우선탐색 : 한 경로의 끝까지 방문하는 것을 반복\n",
    "    - LIFO Stack 구조와 유사함 : 처음 노드보다 최근 노드의 인접노드를 먼저 방문\n",
    "    - 시간복잡도 : O(N+M) 각 정점과 간선을 한 번만 사용하기 때문이다"
   ]
  },
  {
   "cell_type": "code",
   "execution_count": null,
   "metadata": {},
   "outputs": [
    {
     "name": "stdout",
     "output_type": "stream",
     "text": [
      "0  2  3  9  8  1  4  5  7  6  "
     ]
    }
   ],
   "source": [
    "adj_list = [[2,1],[3,0],[3,0],[9,8,2,1],[5],[7,6,4],[7,5],[6,5],[3],[3]]\n",
    "visited = [None] * len(adj_list)\n",
    "\n",
    "def dfs(i):\n",
    "    visited[i] = True #노드 방문\n",
    "    print(i,' ',end='')\n",
    "    for w in adj_list[i]: #방문한 노드의 인접 노드를 순서대로 방문\n",
    "        if visited[w] == None:\n",
    "            dfs(w) #방문한 w 노드를 방문하고 그 인접노드를 방문하지 않았다면 방문\n",
    "\n",
    "for i in range(len(adj_list)): #차례로 방문하며 깊이우선탐색 시작\n",
    "    if visited[i] == None: \n",
    "        dfs(i)"
   ]
  },
  {
   "cell_type": "code",
   "execution_count": null,
   "metadata": {},
   "outputs": [
    {
     "name": "stdout",
     "output_type": "stream",
     "text": [
      "0  2  1  3  9  8  4  5  7  6  "
     ]
    }
   ],
   "source": [
    "adj_list = [[2,1],[3,0],[3,0],[9,8,2,1],[5],[7,6,4],[7,5],[6,5],[3],[3]]\n",
    "N = len(adj_list)\n",
    "visited = [None] * N\n",
    "def bfs(i):\n",
    "    visited[i] = True\n",
    "    q = []\n",
    "    q.append(i)\n",
    "    while len(q) != 0:\n",
    "        v = q.pop(0)\n",
    "        print(v,' ',end='')\n",
    "        for w in adj_list[v]:\n",
    "            if visited[w] == None:\n",
    "                visited[w] = True\n",
    "                q.append(w)\n",
    "\n",
    "for i in range(N):\n",
    "    if visited[i] == None:\n",
    "        bfs(i)"
   ]
  },
  {
   "attachments": {},
   "cell_type": "markdown",
   "metadata": {},
   "source": [
    "- kruscal 알고리즘\n",
    "    - 간선 가중치가 감소하지 않는 순서로 정렬하는 알고리즘\n",
    "    - 사이클을 만들지 않는 작은 가중치의 간선 선택\n",
    "    - n-1개의 간선이 선택되면 종료\n",
    "    - 남아있는 가중치 중 가장 작은 값의 간선 선택(Greedy algorithm)\n",
    "    - 구현\n",
    "        - 가중치를 오름차순으로 정렬한다\n",
    "        - 가장 작은 가중치의 간선을 가져온다\n",
    "            - 싸이클을 만들지 않는다면 추가한다\n",
    "        - n-1개의 간선이 만들어질 때까지 반복한다\n",
    "    - 시간복잡도\n",
    "        - 정렬 시 : O(MlogN)\n",
    "        - find와 union 시 : O((M+N)logN) *union은 부모와 자식 관계를 설정하는 O(1)\n",
    "        - 총 O(MlogN)\n"
   ]
  },
  {
   "cell_type": "code",
   "execution_count": null,
   "metadata": {},
   "outputs": [],
   "source": [
    "weights = [(0,1,9),(0,2,10),(1,3,10),(1,4,5),(1,6,3),(2,3,9),(2,4,7),\n",
    "           (2,5,2),(3,5,4),(3,6,8),(4,6,1),(5,6,6)]\n",
    "weights.sort(key = lambda x : x[2])\n",
    "mst = []\n",
    "N = 7\n",
    "p = [] * N\n",
    "for i in range(N):\n",
    "    p.append(i)"
   ]
  },
  {
   "cell_type": "code",
   "execution_count": null,
   "metadata": {},
   "outputs": [],
   "source": [
    "def find(u):\n",
    "    if u != p[u]: \n",
    "        p[u] = find(p[u]) #자신 노드와 연결된 루트 노드를 계속 찾아감\n",
    "    return p[u]\n",
    "def union(u,v):\n",
    "    root1 = find(u)\n",
    "    root2 = find(v)\n",
    "    p[root2] = root1"
   ]
  },
  {
   "cell_type": "code",
   "execution_count": null,
   "metadata": {},
   "outputs": [
    {
     "name": "stdout",
     "output_type": "stream",
     "text": [
      "최소 신장 트리: [(4, 6), (2, 5), (1, 6), (3, 5), (5, 6), (0, 1)]\n",
      "\n",
      "최소 가중치: 25\n"
     ]
    }
   ],
   "source": [
    "tree_edges = 0 # 간선 수\n",
    "mst_cost = 0 # 가중치 저장\n",
    "while True:\n",
    "    if tree_edges == N - 1:\n",
    "        break\n",
    "    else:\n",
    "        u,v,wt = weights.pop(0)\n",
    "        if find(u) != find(v):\n",
    "            union(u,v)\n",
    "            mst.append((u,v))\n",
    "            mst_cost += wt\n",
    "            tree_edges += 1\n",
    "print('최소 신장 트리:', mst)\n",
    "print()\n",
    "print('최소 가중치:', mst_cost)"
   ]
  },
  {
   "attachments": {},
   "cell_type": "markdown",
   "metadata": {},
   "source": [
    "- Prim algorithm (무방향 그래프)\n",
    "    - 임의의 시작점부터 가까운 노드를 섭외하는 땅따먹기 알고리즘\n",
    "    - 인접한 간선들 중 가장 작은 값을 찾아야함\n",
    "    - 구현\n",
    "        - D = -inf, 시작점 D[s] = 0\n",
    "        - 트리에 속하지 않은 최소정점(min(D[i]))을 추가\n",
    "        - T에 속하지 않은 정점들 중 최소 값을 가지는 정점이 있다면 갱신\n"
   ]
  },
  {
   "cell_type": "code",
   "execution_count": null,
   "metadata": {},
   "outputs": [],
   "source": [
    "import sys\n",
    "N = 7\n",
    "s = 0\n",
    "g = [None] * N\n",
    "g[0] = [(1,9),(2,10)]\n",
    "g[1] = [(0,9),(3,10),(4,5),(6,3)]\n",
    "g[2] = [(0,10),(3,9),(4,7),(5,2)]\n",
    "g[3] = [(1,10),(2,9),(5,4),(6,8)]\n",
    "g[4] = [(1,5),(2,7),(6,1)]\n",
    "g[5] = [(2,2),(3,4),(6,6)]\n",
    "g[6] = [(1,3),(3,8),(4,1),(5,6)]\n",
    "\n",
    "visited = [None] * N\n",
    "D = [sys.maxsize] * N # 가중치를 무한대로 초기화\n",
    "D[s] = 0 # 시작점의 가중치는 0\n",
    "previous = [None] * N # 최단경로 트리에서 자신의 직전 노드를 저장\n",
    "previous[s] = s # 시작점의 직전 노드는 자기 자신"
   ]
  },
  {
   "cell_type": "code",
   "execution_count": null,
   "metadata": {},
   "outputs": [],
   "source": [
    "for k in range(N):\n",
    "    m = -1 # 가중치를 최소로 하는 정점을 찾기 위해\n",
    "    min_value = sys.maxsize \n",
    "    for j in range(N):\n",
    "        if not visited[j] and D[j] < min_value: # 방문하지 않았고 가중치가 최소인 정점을 찾음\n",
    "            min_value = D[j]\n",
    "            m = j\n",
    "    visited[m] = True # 최소 가중치를 가진 정점을 찾았으므로 방문"
   ]
  },
  {
   "cell_type": "code",
   "execution_count": null,
   "metadata": {},
   "outputs": [
    {
     "data": {
      "text/plain": [
       "[True, None, None, None, None, None, True]"
      ]
     },
     "metadata": {},
     "output_type": "display_data"
    }
   ],
   "source": [
    "visited"
   ]
  },
  {
   "attachments": {},
   "cell_type": "markdown",
   "metadata": {},
   "source": [
    "## Dijkstra Algorithm\n",
    "- 노드간의 direct connected뿐만이 아니라 경유 경로를 포함한 최단경로를 찾는 알고리즘\n",
    "- Prim과 유사하지만 차이점이 존재\n",
    "    - 출발점이 존재함\n",
    "    - 노드간의 경로를 저장하는 것이 아니라, 각 정점의 최단경로가 저장됨\n",
    "- 구현\n",
    "    - D를 -inf로 초기화하고 시작점을 0으로 설정한다\n",
    "    - 방문되지 않은 정점에 대해 min_vertex를 찾고 방문한다\n",
    "        -만약 min_vertex와 인접한 노드(w)에 방문한 적이 없다면\n",
    "        - wt = (min_vertex,w)의 가중치\n",
    "        - D[min_vertex] + wt(경유한 가중치) < D[w](현재의 w까지의 거리)\n",
    "        - D[w] = D[min_vertex] + wt -> w의 가중치를 짧은걸로 갱신 -> 간선완화\n",
    "            * 예를들면 D[w]가 25이며 경유한 노드 D[min_vertex] + wt가 20이면 교체\n",
    "        - previous[w] = min_vertex -> w의 이전 노드를 min vertex로 갱신\n",
    "- 시간복잡도\n",
    "    - D에서 min_vertex를 찾는 시간복잡도 O(N)\n",
    "    - 검사와 갱신까지 O(N)\n",
    "    - 총 N*(O(N)+O(N)) = O(N^2)\n",
    "- 최적해 탐색 불가 \n",
    "    - 음수 가중치가 포함되면 최단경로를 찾기 실패함. 왜?\n",
    "        - 음수를 경우해서 오는 경우는 최단거리로 간주할 수 있으나 음수를 거쳐서 오지 않는 경우는 최적해가 되지 않을수도 있다\n",
    "        - 또한 한번 방문한 정점은 다시 갱신하지 않기 때문이다\n"
   ]
  },
  {
   "cell_type": "code",
   "execution_count": null,
   "metadata": {},
   "outputs": [],
   "source": [
    "import sys\n",
    "N = 8\n",
    "s = 0\n",
    "g = [None] * N\n",
    "g[0] = [(1,1),(3,2)] # (인접 정점, 가중치)\n",
    "g[1] = [(0,1),(2,4),(3,3),(4,1),(5,6)]\n",
    "g[2] = [(1,4),(5,1),(6,1),(7,2)]\n",
    "g[3] = [(0,2),(1,3),(4,5)]\n",
    "g[4] = [(1,1),(3,5),(6,2)]\n",
    "g[5] = [(1,6),(2,1),(7,9)]\n",
    "g[6] = [(2,1),(4,2),(7,1)]\n",
    "g[7] = [(2,2),(5,9),(6,1)]\n",
    "\n",
    "\n",
    "visited = [False] * N # 초기화\n",
    "D = [sys.maxsize] * N # 거리 초기화\n",
    "D[s] = 0\n",
    "previous = [None] * N # 이전노드를 가리킬 리스트\n",
    "previous[s] = s #0은 루트(시작점)이니 자기 자신으로 초기화"
   ]
  },
  {
   "cell_type": "code",
   "execution_count": null,
   "metadata": {},
   "outputs": [],
   "source": [
    "for k in range(N): #\n",
    "    m = -1\n",
    "    min_value = sys.maxsize\n",
    "    for j in range(N): # 방문하지 않은 정점 중 가중치가 최소인 정점을 찾음\n",
    "        if not visited[j] and D[j] < min_value:\n",
    "            min_value = D[j] # 첫 루프에는 0이 들어감\n",
    "            m = j # 첫 루프에는 0이 들어감\n",
    "    visited[m] = True # 최소 가중치를 가진 정점을 찾았으므로 방문\n",
    "    for v , wt in list(g[m]): #방문한 정점과 연결된 정점들을 찾음\n",
    "        if not visited[v]: # 방문하지 않았다면\n",
    "            if D[m] + wt < D[v]: # 현재 가중치와 연결된 정점의 가중치를 더한 값이 연결된 정점의 가중치보다 작다면\n",
    "                D[v] = D[m] + wt # 연결된 정점의 가중치를 현재 가중치와 연결된 정점의 가중치를 더한 값으로 바꿈\n",
    "                previous[v] = m\n",
    "            \n"
   ]
  },
  {
   "cell_type": "code",
   "execution_count": null,
   "metadata": {},
   "outputs": [
    {
     "name": "stdout",
     "output_type": "stream",
     "text": [
      "정점 0 로부터 최단거리:\n",
      "[0,0] = 0\n",
      "[0,1] = 1\n",
      "[0,2] = 5\n",
      "[0,3] = 2\n",
      "[0,4] = 2\n",
      "[0,5] = 6\n",
      "[0,6] = 4\n",
      "[0,7] = 5\n",
      "\n",
      " 정점\n",
      "\n",
      "<- 0\n",
      "<- 1<- 0\n",
      "<- 0\n",
      "<- 1<- 0\n",
      "<- 2<- 1<- 0\n",
      "<- 4<- 1<- 0\n",
      "<- 6<- 4<- 1<- 0\n"
     ]
    }
   ],
   "source": [
    "print('정점', s,'로부터 최단거리:')\n",
    "for i in range(N): #N개의 노드를 차례대로 순회\n",
    "    if D[i] == sys.maxsize:\n",
    "        print(f'{s}와 {i} 사이에 경로없음')\n",
    "    else:\n",
    "        print('[%d,%d]'%(s,i),'=', D[i])\n",
    "print('\\n 정점',)\n",
    "for i in range(N):\n",
    "    back = i\n",
    "    while back != s:\n",
    "        print('<-', previous[back],end='')\n",
    "        back = previous[back]\n",
    "    print()"
   ]
  },
  {
   "attachments": {},
   "cell_type": "markdown",
   "metadata": {},
   "source": [
    "- 해시테이블\n",
    "    - O(logN)보다 빠른 연산을 위해 키와 1차원 리스트의 인덱스 관계를 이용해 키를 저장\n",
    "    - 키를 배열의 인덱스로 사용하면 빈 공간이 많아짐 -> 키를 변환해 인덱스로 사용\n",
    "    - 해시함수로 해시값(해시주소)를 뽑게됨\n",
    "    - 그럼 키값에 따른 정렬이 망가지는데 이부분은 어떻게 해결?\n",
    "- 해시 함수\n",
    "    - 각 키들을 균등하게 해시테이블의 인덱스로 변환하는 것이 이상적이다\n",
    "    - 키들은 보통 어떤 의미와 특성을 가지므로 정보를 담은 해시값을 만드는데 보통 충돌이 많이 일어남\n",
    "    - 균등하게 변환한다? -> 테이블에 랜덤하게 저장한다\n",
    "    - 의미를 가진 키를 해시함수로 뒤죽박죽으로 만든 후 테이블 크기에 맞춘 해시값을 계산\n",
    "- 개방주소방식 \n",
    "    - 충돌된 키를 정해진 방식에 따라 empty공간에 저장\n",
    "    - 선형조사 : 충돌이 일어나면 a[i+w]로 인덱스를 증가시키며 저장 (w: 1,2,3..)\n",
    "        - (h(key)+j) % M, j = 0,1,2,3\n",
    "        - 문제점 : 비슷한 키들이 특정 군집에 모여있는 군집화 현상 발생\n",
    "            - 예시: empty 공간이 적어질수록 군집화가 심화되고 성능이 저하됨\n",
    "    - 이차조사 : 선형조사보다 더 멀리 떨어진 곳에서 empty를 탐색\n",
    "        - (h(key) + j^2) % M , j = 0,1,2,3\n",
    "        - 선형조사의 1차 군집화 문제를 해결해줄 수 있으나 \n",
    "        - 값은 해시값을 갖는 서로 다른 키들이 똑같은 점프를 뛰어서 다른 군집화를 야기\n",
    "        - 제곱으로 뛰어서 empty원소가 있는데도 건너뛸 수 있음\n",
    "    \n",
    "    - 이중해싱: 해시함수 2개를 중첩해서 사용, 랜덤하게 뿌려진다\n",
    "        - (h(key)+j*d(key)) % M j=0,1,2\n",
    "        - 동의어들이 각각 다른 제 2해시함수를 갖기에 점프가 일정하지 않음\n",
    "        - 군집화 문제를 해결\n",
    "        - d(key)의 값과 해시테이블 크기 M과 서로서일때 좋은 성능 -> M을 소수로 설정\n",
    "- 폐쇄주소방식 \n",
    "    - 충돌한 키들을 한 위치에 저장 -> 체이닝 (단순연결리스트로 구현가능)\n",
    "\n",
    "- 재해시 : O(N)\n",
    "    - empty 원소가 적어지면 해시 성능이 저하됨 -> 넓은 테이블로 확장\n",
    "    - 재해시 수행여부 적재율에 따라 결정, 테이블에 저장된 키의 수 / 테이블 크기"
   ]
  }
 ],
 "metadata": {
  "language_info": {
   "name": "python"
  },
  "orig_nbformat": 4
 },
 "nbformat": 4,
 "nbformat_minor": 2
}
